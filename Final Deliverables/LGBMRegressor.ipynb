{
 "cells": [
  {
   "cell_type": "markdown",
   "metadata": {
    "id": "lqy_vrl5Wlgh"
   },
   "source": [
    "Import Libraries"
   ]
  },
  {
   "cell_type": "code",
   "execution_count": 1,
   "metadata": {
    "id": "RLanhk32WRzK"
   },
   "outputs": [],
   "source": [
    "import pandas as pd\n",
    "import numpy as np\n",
    "from sklearn.preprocessing import LabelEncoder\n",
    "from sklearn.model_selection import train_test_split\n",
    "from sklearn.metrics import mean_absolute_error, mean_squared_error, r2_score\n",
    "import pickle"
   ]
  },
  {
   "cell_type": "code",
   "execution_count": 4,
   "metadata": {
    "id": "u3fc-cV97c-3"
   },
   "outputs": [],
   "source": [
    "from lightgbm import LGBMRegressor"
   ]
  },
  {
   "cell_type": "code",
   "execution_count": 3,
   "metadata": {},
   "outputs": [
    {
     "name": "stdout",
     "output_type": "stream",
     "text": [
      "Collecting lightgbm\n",
      "  Downloading lightgbm-3.3.3-py3-none-win_amd64.whl (1.0 MB)\n",
      "Requirement already satisfied: numpy in c:\\users\\catch\\anaconda3\\lib\\site-packages (from lightgbm) (1.19.5)\n",
      "Requirement already satisfied: wheel in c:\\users\\catch\\anaconda3\\lib\\site-packages (from lightgbm) (0.36.2)\n",
      "Requirement already satisfied: scipy in c:\\users\\catch\\anaconda3\\lib\\site-packages (from lightgbm) (1.6.2)\n",
      "Requirement already satisfied: scikit-learn!=0.22.0 in c:\\users\\catch\\anaconda3\\lib\\site-packages (from lightgbm) (0.24.1)\n",
      "Requirement already satisfied: threadpoolctl>=2.0.0 in c:\\users\\catch\\anaconda3\\lib\\site-packages (from scikit-learn!=0.22.0->lightgbm) (2.1.0)\n",
      "Requirement already satisfied: joblib>=0.11 in c:\\users\\catch\\anaconda3\\lib\\site-packages (from scikit-learn!=0.22.0->lightgbm) (1.0.1)\n",
      "Installing collected packages: lightgbm\n",
      "Successfully installed lightgbm-3.3.3\n"
     ]
    }
   ],
   "source": [
    "!pip install lightgbm"
   ]
  },
  {
   "cell_type": "markdown",
   "metadata": {
    "id": "yOgJW-hRWuFe"
   },
   "source": [
    "Import Dataset"
   ]
  },
  {
   "cell_type": "code",
   "execution_count": 5,
   "metadata": {
    "colab": {
     "base_uri": "https://localhost:8080/",
     "height": 305
    },
    "id": "l40reAK8OszK",
    "outputId": "7900357f-1333-4ab9-9e6c-2a46ac45b712"
   },
   "outputs": [
    {
     "data": {
      "text/html": [
       "<div>\n",
       "<style scoped>\n",
       "    .dataframe tbody tr th:only-of-type {\n",
       "        vertical-align: middle;\n",
       "    }\n",
       "\n",
       "    .dataframe tbody tr th {\n",
       "        vertical-align: top;\n",
       "    }\n",
       "\n",
       "    .dataframe thead th {\n",
       "        text-align: right;\n",
       "    }\n",
       "</style>\n",
       "<table border=\"1\" class=\"dataframe\">\n",
       "  <thead>\n",
       "    <tr style=\"text-align: right;\">\n",
       "      <th></th>\n",
       "      <th>Unnamed: 0</th>\n",
       "      <th>price</th>\n",
       "      <th>vehicleType</th>\n",
       "      <th>yearOfRegistration</th>\n",
       "      <th>gearbox</th>\n",
       "      <th>powerPS</th>\n",
       "      <th>model</th>\n",
       "      <th>kilometer</th>\n",
       "      <th>monthOfRegistration</th>\n",
       "      <th>fuelType</th>\n",
       "      <th>brand</th>\n",
       "      <th>notRepairedDamage</th>\n",
       "    </tr>\n",
       "  </thead>\n",
       "  <tbody>\n",
       "    <tr>\n",
       "      <th>0</th>\n",
       "      <td>1</td>\n",
       "      <td>18300.0</td>\n",
       "      <td>coupe</td>\n",
       "      <td>2011.0</td>\n",
       "      <td>manual</td>\n",
       "      <td>190.0</td>\n",
       "      <td>not-declared</td>\n",
       "      <td>125000</td>\n",
       "      <td>5.0</td>\n",
       "      <td>diesel</td>\n",
       "      <td>audi</td>\n",
       "      <td>Yes</td>\n",
       "    </tr>\n",
       "    <tr>\n",
       "      <th>1</th>\n",
       "      <td>2</td>\n",
       "      <td>9800.0</td>\n",
       "      <td>suv</td>\n",
       "      <td>2004.0</td>\n",
       "      <td>automatic</td>\n",
       "      <td>163.0</td>\n",
       "      <td>grand</td>\n",
       "      <td>125000</td>\n",
       "      <td>8.0</td>\n",
       "      <td>diesel</td>\n",
       "      <td>jeep</td>\n",
       "      <td>not-declared</td>\n",
       "    </tr>\n",
       "    <tr>\n",
       "      <th>2</th>\n",
       "      <td>3</td>\n",
       "      <td>1500.0</td>\n",
       "      <td>small car</td>\n",
       "      <td>2001.0</td>\n",
       "      <td>manual</td>\n",
       "      <td>75.0</td>\n",
       "      <td>golf</td>\n",
       "      <td>150000</td>\n",
       "      <td>6.0</td>\n",
       "      <td>petrol</td>\n",
       "      <td>volkswagen</td>\n",
       "      <td>No</td>\n",
       "    </tr>\n",
       "    <tr>\n",
       "      <th>3</th>\n",
       "      <td>4</td>\n",
       "      <td>3600.0</td>\n",
       "      <td>small car</td>\n",
       "      <td>2008.0</td>\n",
       "      <td>manual</td>\n",
       "      <td>69.0</td>\n",
       "      <td>fabia</td>\n",
       "      <td>90000</td>\n",
       "      <td>7.0</td>\n",
       "      <td>diesel</td>\n",
       "      <td>skoda</td>\n",
       "      <td>No</td>\n",
       "    </tr>\n",
       "    <tr>\n",
       "      <th>4</th>\n",
       "      <td>5</td>\n",
       "      <td>650.0</td>\n",
       "      <td>limousine</td>\n",
       "      <td>1995.0</td>\n",
       "      <td>manual</td>\n",
       "      <td>102.0</td>\n",
       "      <td>3er</td>\n",
       "      <td>150000</td>\n",
       "      <td>10.0</td>\n",
       "      <td>petrol</td>\n",
       "      <td>bmw</td>\n",
       "      <td>Yes</td>\n",
       "    </tr>\n",
       "  </tbody>\n",
       "</table>\n",
       "</div>"
      ],
      "text/plain": [
       "   Unnamed: 0    price vehicleType  yearOfRegistration    gearbox  powerPS  \\\n",
       "0           1  18300.0       coupe              2011.0     manual    190.0   \n",
       "1           2   9800.0         suv              2004.0  automatic    163.0   \n",
       "2           3   1500.0   small car              2001.0     manual     75.0   \n",
       "3           4   3600.0   small car              2008.0     manual     69.0   \n",
       "4           5    650.0   limousine              1995.0     manual    102.0   \n",
       "\n",
       "          model  kilometer  monthOfRegistration fuelType       brand  \\\n",
       "0  not-declared     125000                  5.0   diesel        audi   \n",
       "1         grand     125000                  8.0   diesel        jeep   \n",
       "2          golf     150000                  6.0   petrol  volkswagen   \n",
       "3         fabia      90000                  7.0   diesel       skoda   \n",
       "4           3er     150000                 10.0   petrol         bmw   \n",
       "\n",
       "  notRepairedDamage  \n",
       "0               Yes  \n",
       "1      not-declared  \n",
       "2                No  \n",
       "3                No  \n",
       "4               Yes  "
      ]
     },
     "execution_count": 5,
     "metadata": {},
     "output_type": "execute_result"
    }
   ],
   "source": [
    "data = pd.read_csv('autos_preprocessed.csv')\n",
    "data.head()"
   ]
  },
  {
   "cell_type": "markdown",
   "metadata": {
    "id": "9b6ZNcc9O4k5"
   },
   "source": [
    "Label Encoding"
   ]
  },
  {
   "cell_type": "code",
   "execution_count": 6,
   "metadata": {
    "colab": {
     "base_uri": "https://localhost:8080/"
    },
    "id": "61dg9aGfO4L2",
    "outputId": "47c2d61b-3e65-4654-a6aa-3cf005b49f25"
   },
   "outputs": [
    {
     "name": "stdout",
     "output_type": "stream",
     "text": [
      "Index(['price', 'yearOfRegistration', 'powerPS', 'kilometer',\n",
      "       'monthOfRegistration', 'gearbox_labels', 'notRepairedDamage_labels',\n",
      "       'model_labels', 'brand_labels', 'fuelType_labels',\n",
      "       'vehicleType_labels'],\n",
      "      dtype='object')\n"
     ]
    }
   ],
   "source": [
    "labels = ['gearbox', 'notRepairedDamage', 'model', 'brand', 'fuelType', 'vehicleType']\n",
    "\n",
    "mapper = {}\n",
    "for i in labels:\n",
    "    mapper[i] = LabelEncoder()\n",
    "    mapper[i].fit(data[i])\n",
    "    tr = mapper[i].transform(data[i])\n",
    "    np.save(str('classes'+i+'.npy'), mapper[i].classes_)\n",
    "    data.loc[:, i+'_labels'] = pd.Series(tr, index=data.index)\n",
    "    \n",
    "labeled = data[['price', 'yearOfRegistration','powerPS','kilometer','monthOfRegistration']\n",
    "                  +[x+\"_labels\" for x in labels]]\n",
    "\n",
    "print(labeled.columns)"
   ]
  },
  {
   "cell_type": "markdown",
   "metadata": {
    "id": "hJL3Bqy5PLWJ"
   },
   "source": [
    "Different Metrics Evaluation\n"
   ]
  },
  {
   "cell_type": "code",
   "execution_count": 7,
   "metadata": {
    "id": "4hpdYZ2tPQ7g"
   },
   "outputs": [],
   "source": [
    "def find_scores(Y_actual, Y_pred, X_train):\n",
    "    scores = dict()\n",
    "    mae = mean_absolute_error(Y_actual, Y_pred)\n",
    "    mse = mean_squared_error(Y_actual, Y_pred)\n",
    "    rmse = np.sqrt(mse)\n",
    "    rmsle = np.log(rmse)\n",
    "    r2 = r2_score(Y_actual, Y_pred)\n",
    "    n, k = X_train.shape\n",
    "    adj_r2_score = 1 - ((1-r2)*(n-1)/(n-k-1))\n",
    "    \n",
    "    scores['mae']=mae\n",
    "    scores['mse']=mse\n",
    "    scores['rmse']=rmse\n",
    "    scores['rmsle']=rmsle\n",
    "    scores['r2']=r2\n",
    "    scores['adj_r2_score']=adj_r2_score\n",
    "    \n",
    "    return scores"
   ]
  },
  {
   "cell_type": "markdown",
   "metadata": {
    "id": "PLAY3XsyPg7E"
   },
   "source": [
    "Train Test Split"
   ]
  },
  {
   "cell_type": "code",
   "execution_count": 8,
   "metadata": {
    "id": "8MQqx79xPlXz"
   },
   "outputs": [],
   "source": [
    "X = labeled.iloc[:,1:].values\n",
    "Y = labeled.iloc[:,0].values.reshape(-1,1)"
   ]
  },
  {
   "cell_type": "code",
   "execution_count": 9,
   "metadata": {
    "id": "McvjOguCPp5J"
   },
   "outputs": [],
   "source": [
    "X_train, X_test, Y_train, Y_test = train_test_split(X, Y, test_size=0.4, random_state=42)\n"
   ]
  },
  {
   "cell_type": "markdown",
   "metadata": {
    "id": "7e624zBLPuWh"
   },
   "source": [
    "Predictive Modeling\n"
   ]
  },
  {
   "cell_type": "markdown",
   "metadata": {
    "id": "ywXifLUAPwrA"
   },
   "source": [
    "LGBM Regressor"
   ]
  },
  {
   "cell_type": "markdown",
   "metadata": {
    "id": "cX8Vd44-P0Kg"
   },
   "source": [
    "*Best Parameters*\n",
    "\n",
    "booster-\"gbtree\"\n",
    "metric-rmse\n",
    "learning_rate-0.07\n",
    "n_estimators-300\n",
    "objective-root_mean_squared_error\n",
    "reg_sqrt-True\n",
    "random_state-42"
   ]
  },
  {
   "cell_type": "code",
   "execution_count": 10,
   "metadata": {
    "colab": {
     "base_uri": "https://localhost:8080/"
    },
    "id": "sWeiAQOSP3ia",
    "outputId": "6a0bfc23-a30f-41f4-c09a-52ed9fe2db91"
   },
   "outputs": [
    {
     "name": "stderr",
     "output_type": "stream",
     "text": [
      "C:\\Users\\catch\\anaconda3\\lib\\site-packages\\sklearn\\utils\\validation.py:63: DataConversionWarning: A column-vector y was passed when a 1d array was expected. Please change the shape of y to (n_samples, ), for example using ravel().\n",
      "  return f(*args, **kwargs)\n"
     ]
    },
    {
     "data": {
      "text/plain": [
       "{'mae': 1320.6988287013735,\n",
       " 'mse': 9115858.255127603,\n",
       " 'rmse': 3019.2479618487123,\n",
       " 'rmsle': 8.01276306010308,\n",
       " 'r2': 0.8685679338456337,\n",
       " 'adj_r2_score': 0.8685601636509441}"
      ]
     },
     "execution_count": 10,
     "metadata": {},
     "output_type": "execute_result"
    }
   ],
   "source": [
    "model = LGBMRegressor(boosting_type=\"gbdt\",learning_rate=0.07,metric=\"rmse\",n_estimators=300,objective=\"root_mean_squared_error\",random_state=42,reg_sqrt=True)\n",
    "\n",
    "model.fit(X_train, Y_train)\n",
    "\n",
    "Y_pred = model.predict(X_test)\n",
    "\n",
    "find_scores(Y_test, Y_pred, X_train)"
   ]
  },
  {
   "cell_type": "markdown",
   "metadata": {
    "id": "7q_b5wPzP807"
   },
   "source": [
    "Save Model"
   ]
  },
  {
   "cell_type": "code",
   "execution_count": 11,
   "metadata": {
    "id": "Z-RkQwEtP_bD"
   },
   "outputs": [],
   "source": [
    "pickle.dump(model, open('resale_model.sav', 'wb'))"
   ]
  },
  {
   "cell_type": "code",
   "execution_count": null,
   "metadata": {},
   "outputs": [],
   "source": []
  }
 ],
 "metadata": {
  "colab": {
   "provenance": []
  },
  "kernelspec": {
   "display_name": "Python 3",
   "language": "python",
   "name": "python3"
  },
  "language_info": {
   "codemirror_mode": {
    "name": "ipython",
    "version": 3
   },
   "file_extension": ".py",
   "mimetype": "text/x-python",
   "name": "python",
   "nbconvert_exporter": "python",
   "pygments_lexer": "ipython3",
   "version": "3.8.8"
  }
 },
 "nbformat": 4,
 "nbformat_minor": 1
}
