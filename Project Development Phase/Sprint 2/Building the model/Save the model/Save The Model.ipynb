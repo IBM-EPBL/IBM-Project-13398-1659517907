{
 "cells": [
  {
   "cell_type": "markdown",
   "metadata": {
    "id": "fmBaZX9y9cg5"
   },
   "source": [
    "## ***MODEL SAVING***"
   ]
  },
  {
   "cell_type": "code",
   "execution_count": null,
   "metadata": {
    "id": "kz2nwRBZ-d9I"
   },
   "outputs": [],
   "source": [
    "#importing joblib library to save the model\n",
    "import joblib"
   ]
  },
  {
   "cell_type": "code",
   "execution_count": null,
   "metadata": {
    "colab": {
     "base_uri": "https://localhost:8080/"
    },
    "id": "q25IUKuBvaqu",
    "outputId": "10201762-b0f1-4afb-8f12-ba2513da3e7d"
   },
   "outputs": [
    {
     "data": {
      "text/plain": [
       "['Car Resale Value Prediction']"
      ]
     },
     "execution_count": 98,
     "metadata": {},
     "output_type": "execute_result"
    }
   ],
   "source": [
    "#saving the model using 'dump' function in joblib library\n",
    "joblib.dump(model,'Car Resale Value Prediction')"
   ]
  },
  {
   "cell_type": "code",
   "execution_count": null,
   "metadata": {
    "id": "eaLt61QoCU5R"
   },
   "outputs": [],
   "source": [
    "# Loading the model\n",
    "gsk=joblib.load('Car Resale Value Prediction')"
   ]
  },
  {
   "cell_type": "code",
   "execution_count": null,
   "metadata": {
    "colab": {
     "base_uri": "https://localhost:8080/"
    },
    "id": "U1JPQUxnvmkn",
    "outputId": "fdbd1d0e-6067-4655-f9d4-dbdd85526782"
   },
   "outputs": [
    {
     "name": "stderr",
     "output_type": "stream",
     "text": [
      "/usr/local/lib/python3.7/dist-packages/sklearn/base.py:451: UserWarning: X does not have valid feature names, but RandomForestRegressor was fitted with feature names\n",
      "  \"X does not have valid feature names, but\"\n"
     ]
    },
    {
     "data": {
      "text/plain": [
       "array([3365.97])"
      ]
     },
     "execution_count": 105,
     "metadata": {},
     "output_type": "execute_result"
    }
   ],
   "source": [
    "# Testing  the model using sample data\n",
    "# predicting the price of the car\n",
    "gsk.predict([['0','0','0','2011','0','1500','9','0','0','0','70464','1','1']])"
   ]
  },
  {
   "cell_type": "code",
   "execution_count": null,
   "metadata": {
    "id": "mh3cryDf3jZs"
   },
   "outputs": [],
   "source": []
  }
 ],
 "metadata": {
  "colab": {
   "collapsed_sections": [],
   "provenance": []
  },
  "kernelspec": {
   "display_name": "Python 3",
   "language": "python",
   "name": "python3"
  },
  "language_info": {
   "codemirror_mode": {
    "name": "ipython",
    "version": 3
   },
   "file_extension": ".py",
   "mimetype": "text/x-python",
   "name": "python",
   "nbconvert_exporter": "python",
   "pygments_lexer": "ipython3",
   "version": "3.7.6"
  }
 },
 "nbformat": 4,
 "nbformat_minor": 1
}
